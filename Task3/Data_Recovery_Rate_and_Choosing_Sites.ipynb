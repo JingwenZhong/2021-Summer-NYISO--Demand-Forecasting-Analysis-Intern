{
 "cells": [
  {
   "cell_type": "code",
   "execution_count": 1,
   "id": "0a92b3eb",
   "metadata": {},
   "outputs": [],
   "source": [
    "import os\n",
    "import pandas as pd\n",
    "import numpy as np\n",
    "import seaborn as sns\n",
    "import matplotlib.pyplot as plt\n",
    "import math"
   ]
  },
  {
   "cell_type": "markdown",
   "id": "c35c70a5",
   "metadata": {},
   "source": [
    "### Data Recovery Rate for all sites\n",
    "\n",
    "there are 388 sites in total"
   ]
  },
  {
   "cell_type": "code",
   "execution_count": 2,
   "id": "9dc665b5",
   "metadata": {},
   "outputs": [],
   "source": [
    "files = \"C:/Users/zhongj/Desktop/Task3_Data\" #go to files direction\n",
    "os.chdir(files)"
   ]
  },
  {
   "cell_type": "code",
   "execution_count": 3,
   "id": "14d6164b",
   "metadata": {},
   "outputs": [],
   "source": [
    "df= pd.read_csv(\"All_Sites_BTM_Solar_Data_Edit_15_Min_Interval.csv\") "
   ]
  },
  {
   "cell_type": "code",
   "execution_count": 4,
   "id": "ca11b711",
   "metadata": {},
   "outputs": [],
   "source": [
    "Project_ID = list(df.columns)\n",
    "Project_ID.remove('DateTime')\n",
    "Project_ID.remove('Year')\n",
    "Project_ID.remove('Month')\n",
    "Project_ID.remove('Day')\n",
    "Project_ID.remove('Hour')\n",
    "Project_ID.remove('Min')"
   ]
  },
  {
   "cell_type": "code",
   "execution_count": 5,
   "id": "57b75482",
   "metadata": {},
   "outputs": [],
   "source": [
    "year = list(df['Year'].unique()) #get all unique years"
   ]
  },
  {
   "cell_type": "markdown",
   "id": "456e404e",
   "metadata": {},
   "source": [
    "### Data Recovery Rate for all sites\n"
   ]
  },
  {
   "cell_type": "code",
   "execution_count": 7,
   "id": "0a4511a2",
   "metadata": {},
   "outputs": [],
   "source": [
    "files = \"C:/Users/zhongj/Desktop/Task3_Results/Data_Recovery_Rates/All_Sites\" #go to files direction\n",
    "os.chdir(files)"
   ]
  },
  {
   "cell_type": "markdown",
   "id": "067761d5",
   "metadata": {},
   "source": [
    "###### data recovery rate defined function"
   ]
  },
  {
   "cell_type": "code",
   "execution_count": 26,
   "id": "839da92f",
   "metadata": {},
   "outputs": [],
   "source": [
    "def drr_df(df, year, Project_ID):\n",
    "    list_all= []\n",
    "    list_y = []\n",
    "    list_m = []\n",
    "    for y in year:\n",
    "        if y ==2021: #year 2021 only has 2 months\n",
    "            month = [1,2]\n",
    "\n",
    "        else:\n",
    "            month = list(df['Month'].unique())\n",
    "\n",
    "        for m in month: #each year and each month\n",
    "            data_select = df[(df[\"Year\"] == y)&(df[\"Month\"] == m)] # choose the data\n",
    "            data_select = data_select[Project_ID] #choose all sites\n",
    "            total_n = len(data_select) # total number of rows (one number)\n",
    "\n",
    "            list1 = list(data_select.isna().sum()) #total number of None for each sites (600 numbers)\n",
    "\n",
    "            list2 = [(total_n - i)/total_n for i in list1] # Calculate the data recovery rate\n",
    "\n",
    "            list_all.append(list2) \n",
    "\n",
    "            list_y.append(y)\n",
    "            list_m.append(m)\n",
    "            \n",
    "    # make a dataframe for the data recovery rate\n",
    "    df_na_ratio = pd.DataFrame(list_all)\n",
    "    df_na_ratio.columns = Project_ID\n",
    "    df_na_ratio['Year'] = list_y\n",
    "    df_na_ratio['Month'] = list_m\n",
    "    df_na_ratio['Date'] = pd.PeriodIndex(year = df_na_ratio['Year'], month = df_na_ratio['Month'],\n",
    "                                freq = 'M')\n",
    "    df_na_ratio.index = df_na_ratio['Date']\n",
    "    del df_na_ratio['Year']\n",
    "    del df_na_ratio['Month']\n",
    "    \n",
    "    return df_na_ratio"
   ]
  },
  {
   "cell_type": "code",
   "execution_count": 49,
   "id": "e8b24a05",
   "metadata": {},
   "outputs": [],
   "source": [
    "df_na_ratio = drr_df(df, year, Project_ID)"
   ]
  },
  {
   "cell_type": "markdown",
   "id": "9d014b30",
   "metadata": {},
   "source": [
    "###### Data Recovery Rate -  Plots defined function\n",
    "\n",
    "since there are too many sites, we don't want to plot then in one picture"
   ]
  },
  {
   "cell_type": "code",
   "execution_count": 14,
   "id": "e352b548",
   "metadata": {},
   "outputs": [],
   "source": [
    "def ddr_plots(n, p): # n: total sites p: how many plots you want to have\n",
    "    count = math.ceil(n/p)\n",
    "    for i in range(0, p):\n",
    "        b = i*count # range begin\n",
    "        e = (i+1)*count\n",
    "        if e> n:\n",
    "            e = n\n",
    "\n",
    "        d = df_na_ratio.iloc[:, b:e]\n",
    "        #setting:\n",
    "        plt.figure(figsize=(25,15))\n",
    "        plt.title('Data recovery rates in each Month for Sites %d-%d'%(b, e))\n",
    "\n",
    "        #plot:\n",
    "        sns.heatmap(d, cmap='Spectral', annot = True,linewidths=.1)\n",
    "        plt.savefig('Data recovery rates in each Month for Sites %d-%d'%(b, e), bbox_inches=\"tight\")\n",
    "        plt.show()"
   ]
  },
  {
   "cell_type": "code",
   "execution_count": null,
   "id": "00af494c",
   "metadata": {},
   "outputs": [],
   "source": [
    "ddr_plots(388, 8)"
   ]
  },
  {
   "cell_type": "code",
   "execution_count": 50,
   "id": "2bbae57e",
   "metadata": {},
   "outputs": [],
   "source": [
    "df_na_ratio['Mean'] = df_na_ratio[Project_ID].mean(axis=1)"
   ]
  },
  {
   "cell_type": "code",
   "execution_count": 51,
   "id": "4f21f1e3",
   "metadata": {},
   "outputs": [],
   "source": [
    "df_na_ratio['Date'] = df_na_ratio['Date'].map(lambda x: x.to_timestamp())\n",
    "df_na_ratio['Date'] = pd.to_datetime(df_na_ratio['Date'])\n",
    "df_na_ratio['Date'] = df_na_ratio['Date'].dt.date"
   ]
  },
  {
   "cell_type": "code",
   "execution_count": 52,
   "id": "608ee1a4",
   "metadata": {},
   "outputs": [],
   "source": [
    "from datetime import date\n",
    "df_na_ratio2 = df_na_ratio.loc[(df_na_ratio['Date']!=date(2021,2,1))]"
   ]
  },
  {
   "cell_type": "code",
   "execution_count": null,
   "id": "0f1bdb66",
   "metadata": {},
   "outputs": [],
   "source": [
    "df_na_ratio2"
   ]
  },
  {
   "cell_type": "code",
   "execution_count": 54,
   "id": "9e8aa2f4",
   "metadata": {},
   "outputs": [
    {
     "data": {
      "image/png": "[encoded data removed]",
      "text/plain": [
       "<Figure size 1080x360 with 1 Axes>"
      ]
     },
     "metadata": {
      "needs_background": "light"
     },
     "output_type": "display_data"
    }
   ],
   "source": [
    "fig, ax = plt.subplots(1,1,figsize = (15,5))\n",
    "plt.plot(df_na_ratio2['Date'],df_na_ratio2['Mean'], marker = 'o')\n",
    "plt.ylabel('Average Data recovery rates')\n",
    "plt.title('Average Data recovery rates for all sites in each Month')\n",
    "plt.savefig('Average Data recovery rates for all sites in each Month', bbox_inches=\"tight\")\n",
    "plt.show()"
   ]
  },
  {
   "cell_type": "code",
   "execution_count": 14,
   "id": "7dff09b3",
   "metadata": {},
   "outputs": [],
   "source": [
    "del df_na_ratio['Date']\n",
    "\n",
    "writer = pd.ExcelWriter(r'Data_Recovery_Rates_raw_files.xlsx', \n",
    "                                engine = 'xlsxwriter')\n",
    "df_na_ratio.to_excel(writer)\n",
    "\n",
    "writer.save()"
   ]
  },
  {
   "cell_type": "markdown",
   "id": "613e2428",
   "metadata": {},
   "source": [
    "## Sites Selection"
   ]
  },
  {
   "cell_type": "code",
   "execution_count": 19,
   "id": "5fbdbd60",
   "metadata": {},
   "outputs": [
    {
     "data": {
      "text/plain": [
       "227"
      ]
     },
     "execution_count": 19,
     "metadata": {},
     "output_type": "execute_result"
    }
   ],
   "source": [
    "sites1 = []\n",
    "for p in Project_ID: \n",
    "    if len(df_na_ratio[df_na_ratio[p]>0.90])>=12: # choosing sites that have 12 months with data recovery rate >= 0.9\n",
    "        sites1.append(p)\n",
    "len(sites1)"
   ]
  },
  {
   "cell_type": "code",
   "execution_count": 20,
   "id": "c788ddad",
   "metadata": {},
   "outputs": [],
   "source": [
    "df_na_ratio2 = df_na_ratio[sites1]"
   ]
  },
  {
   "cell_type": "code",
   "execution_count": 21,
   "id": "2c3e4d54",
   "metadata": {},
   "outputs": [
    {
     "data": {
      "text/plain": [
       "190"
      ]
     },
     "execution_count": 21,
     "metadata": {},
     "output_type": "execute_result"
    }
   ],
   "source": [
    "# choosing sites that have 12 concecutive months with data recovery rate >= 0.9 \n",
    "final_sites = []\n",
    "for p in sites1: #loop through all sites\n",
    "    \n",
    "    count = 0\n",
    "    s = df_na_ratio2[p]\n",
    "    \n",
    "    for i, v in s.items(): # loop through all values in one site\n",
    "        # for each value:\n",
    "        if v >= 0.90: #if data recovery rate value >= 0.9:\n",
    "            count +=1 # counts add 1\n",
    "            \n",
    "        else: #if value < 0.9 :\n",
    "            if count >= 12: # if there are already 12 concecutive months:\n",
    "                break #no need to see next values\n",
    "            else: #if it doesn't have  12 concecutive months\n",
    "                count = 0 #change count to 0\n",
    "                \n",
    "    if count >=12: # if here are 12 concecutive months:\n",
    "        final_sites.append(p) # choose this site\n",
    "\n",
    "final_sites.remove('710') #remove site 710 because there are more than not much data in 2020, and we want to only use 2020's data\n",
    "        \n",
    "len(final_sites)"
   ]
  },
  {
   "cell_type": "code",
   "execution_count": 22,
   "id": "3bc9ef1b",
   "metadata": {},
   "outputs": [],
   "source": [
    "df_na_ratio2 = df_na_ratio[final_sites]"
   ]
  },
  {
   "cell_type": "code",
   "execution_count": 23,
   "id": "4d600dc2",
   "metadata": {},
   "outputs": [],
   "source": [
    "#change columns' order:\n",
    "c = ['DateTime', 'Year','Month', 'Day', 'Hour','Min'] \n",
    "for p in final_sites:\n",
    "    c.append(p)\n",
    "DF = df[c]\n",
    "\n",
    "\n",
    "DF = DF[DF['Year']==2020] #only use 2020 data"
   ]
  },
  {
   "cell_type": "code",
   "execution_count": 24,
   "id": "1d547b7e",
   "metadata": {},
   "outputs": [],
   "source": [
    "# if the date recovery rate in a day is not 0, then I change the missing values that earlier than 8am, later that 5pm to 0.\n",
    "# So it will make some of the data recovery rate 0.98 to 1s"
   ]
  },
  {
   "cell_type": "code",
   "execution_count": 25,
   "id": "1ae2eda2",
   "metadata": {},
   "outputs": [],
   "source": [
    "DF['DateTime'] = pd.to_datetime(df['DateTime'])\n",
    "DF['Date']= DF['DateTime'].dt.date\n",
    "date = list(DF['Date'].unique())"
   ]
  },
  {
   "cell_type": "code",
   "execution_count": 26,
   "id": "c529e949",
   "metadata": {},
   "outputs": [],
   "source": [
    "list_all= []\n",
    "\n",
    "for d in date:\n",
    "    data_select = DF[DF['Date'] == d]\n",
    "    data_select = data_select[final_sites]\n",
    "    total_n = len(data_select)\n",
    "    list1 = list(data_select.isna().sum())\n",
    "    list2 = [(total_n - i)/total_n for i in list1]\n",
    "    list_all.append(list2)\n",
    "    \n",
    "df_na_ratio0 = pd.DataFrame(list_all)\n",
    "df_na_ratio0.columns = final_sites\n",
    "df_na_ratio0['Date'] = date"
   ]
  },
  {
   "cell_type": "code",
   "execution_count": 27,
   "id": "c71d2a5c",
   "metadata": {},
   "outputs": [
    {
     "name": "stderr",
     "output_type": "stream",
     "text": [
      "C:\\Users\\zhongj\\Zhongj1\\ZhongJ\\lib\\site-packages\\pandas\\core\\indexing.py:1732: SettingWithCopyWarning: \n",
      "A value is trying to be set on a copy of a slice from a DataFrame\n",
      "\n",
      "See the caveats in the documentation: https://pandas.pydata.org/pandas-docs/stable/user_guide/indexing.html#returning-a-view-versus-a-copy\n",
      "  self._setitem_single_block(indexer, value, name)\n"
     ]
    }
   ],
   "source": [
    "for p in final_sites:\n",
    "    for d in date:\n",
    "        n = df_na_ratio0[df_na_ratio0['Date']== d][p].values[0]\n",
    "        if n>0 and n<1 :\n",
    "            DF[p].loc[(DF['Date']== d)&(DF[p].isnull())&(DF['Hour']<8)] = 0\n",
    "            DF[p].loc[(DF['Date']== d)&(DF[p].isnull())&(DF['Hour']>17)] = 0"
   ]
  },
  {
   "cell_type": "code",
   "execution_count": 28,
   "id": "2406efb8",
   "metadata": {},
   "outputs": [],
   "source": [
    "del DF['Date']"
   ]
  },
  {
   "cell_type": "markdown",
   "id": "6048befa",
   "metadata": {},
   "source": [
    "###### Data recovery rates for chosen sites"
   ]
  },
  {
   "cell_type": "code",
   "execution_count": 29,
   "id": "7582cdb8",
   "metadata": {},
   "outputs": [],
   "source": [
    "df_na_ratio = drr_df(DF, [2020], final_sites)"
   ]
  },
  {
   "cell_type": "code",
   "execution_count": 30,
   "id": "941aea75",
   "metadata": {},
   "outputs": [],
   "source": [
    "files = \"C:/Users/zhongj/Desktop/Data_Recovery_Rates/Chosen_Sites_2020\" #go to files direction\n",
    "os.chdir(files)"
   ]
  },
  {
   "cell_type": "code",
   "execution_count": null,
   "id": "aebb6210",
   "metadata": {},
   "outputs": [],
   "source": [
    "ddr_plots(190, 8)"
   ]
  },
  {
   "cell_type": "code",
   "execution_count": 32,
   "id": "5ca6a039",
   "metadata": {},
   "outputs": [],
   "source": [
    "df_na_ratio['Mean'] = df_na_ratio[final_sites].mean(axis=1)\n",
    "df_na_ratio['Date'] = df_na_ratio['Date'].map(lambda x: x.to_timestamp())\n",
    "df_na_ratio['Date'] = pd.to_datetime(df_na_ratio['Date'])"
   ]
  },
  {
   "cell_type": "code",
   "execution_count": 33,
   "id": "bb43d867",
   "metadata": {},
   "outputs": [],
   "source": [
    "del df_na_ratio['Date']\n",
    "\n",
    "writer = pd.ExcelWriter(r'Data_recovery_rates_for_Chosen_Sites_2020.xlsx', \n",
    "                                engine = 'xlsxwriter')\n",
    "df_na_ratio.to_excel(writer)\n",
    "\n",
    "writer.save()"
   ]
  },
  {
   "cell_type": "markdown",
   "id": "52c3426d",
   "metadata": {},
   "source": [
    "### Output chosen site data files"
   ]
  },
  {
   "cell_type": "markdown",
   "id": "871bd3b1",
   "metadata": {},
   "source": [
    "###### 15 mins interval:"
   ]
  },
  {
   "cell_type": "code",
   "execution_count": 5,
   "id": "c5f6f578",
   "metadata": {},
   "outputs": [],
   "source": [
    "files = \"C:/Users/zhongj/Desktop/Task3_Data\" #go to files direction\n",
    "os.chdir(files)"
   ]
  },
  {
   "cell_type": "code",
   "execution_count": 34,
   "id": "2a6c5ce0",
   "metadata": {},
   "outputs": [],
   "source": [
    "DF.to_csv(r'Chosen_Sites_BTM_15_Min_Interval.csv', index = False)"
   ]
  },
  {
   "cell_type": "code",
   "execution_count": 6,
   "id": "b1b766d2",
   "metadata": {},
   "outputs": [],
   "source": [
    "DF = pd.read_csv(\"Chosen_Sites_BTM_15_Min_Interval.csv\") #project id"
   ]
  },
  {
   "cell_type": "code",
   "execution_count": 11,
   "id": "b75eb65d",
   "metadata": {},
   "outputs": [],
   "source": [
    "files = \"C:/Users/zhongj/Desktop/Task3_Data/Data_to_Use\" #go to files direction\n",
    "os.chdir(files)"
   ]
  },
  {
   "cell_type": "code",
   "execution_count": 7,
   "id": "e8091ab8",
   "metadata": {},
   "outputs": [],
   "source": [
    "columns_name = list(DF.columns)\n",
    "columns_name.remove('Hour')\n",
    "columns_name.remove('Min')"
   ]
  },
  {
   "cell_type": "markdown",
   "id": "29c9f618",
   "metadata": {},
   "source": [
    "###### Hourly Interval"
   ]
  },
  {
   "cell_type": "code",
   "execution_count": 8,
   "id": "90d92bd6",
   "metadata": {},
   "outputs": [],
   "source": [
    "DF1 = DF.groupby(['Year', 'Month', 'Day','Hour']).sum()\n",
    "DF1 = DF1.reset_index()\n",
    "del DF1['Min']"
   ]
  },
  {
   "cell_type": "code",
   "execution_count": 42,
   "id": "2f07b249",
   "metadata": {},
   "outputs": [],
   "source": [
    "DF1['DateTime'] = pd.PeriodIndex(year = DF1['Year'], month = DF1['Month'],\n",
    "                            day = DF1['Day'], hour = DF1['Hour'], freq = 'H')\n",
    "DF1['DateTime'] = DF1['DateTime'].map(lambda x: x.to_timestamp())"
   ]
  },
  {
   "cell_type": "code",
   "execution_count": 43,
   "id": "00bc116c",
   "metadata": {},
   "outputs": [],
   "source": [
    "c = ['DateTime', 'Year','Month', 'Day', 'Hour']\n",
    "for p in final_sites:\n",
    "    c.append(p)\n",
    "DF1 =  DF1[c]"
   ]
  },
  {
   "cell_type": "code",
   "execution_count": 45,
   "id": "dd3f2e17",
   "metadata": {},
   "outputs": [],
   "source": [
    "DF1.to_csv(r'Chosen_Sites_BTM_Houly.csv', index = False)"
   ]
  },
  {
   "cell_type": "markdown",
   "id": "dd3897e2",
   "metadata": {},
   "source": [
    "###### Chosen Sites BTM Daily sum of data from 5am 9pm"
   ]
  },
  {
   "cell_type": "code",
   "execution_count": 15,
   "id": "3da186f0",
   "metadata": {},
   "outputs": [],
   "source": [
    "DF2 = DF[(DF['Hour']>5)&(DF['Hour']<=21)].reset_index(drop = True)\n",
    "DF2 = DF2.groupby(['Year', 'Month', 'Day']).sum()\n",
    "DF2 = DF2.reset_index()\n",
    "del DF2['Hour']\n",
    "DF2['DateTime'] = pd.PeriodIndex(year = DF2['Year'], month = DF2['Month'],\n",
    "                            day = DF2['Day'], freq = 'D')\n",
    "# DF2['DateTime'] = DF2['DateTime'].map(lambda x: x.to_timestamp())"
   ]
  },
  {
   "cell_type": "code",
   "execution_count": 16,
   "id": "38d9e423",
   "metadata": {},
   "outputs": [],
   "source": [
    "DF2 =  DF2[columns_name]"
   ]
  },
  {
   "cell_type": "code",
   "execution_count": 17,
   "id": "3eb9381a",
   "metadata": {},
   "outputs": [],
   "source": [
    "writer = pd.ExcelWriter(r'Chosen_Sites_BTM_Daily_5am_9pm.xlsx', \n",
    "                                engine = 'xlsxwriter')\n",
    "DF2.to_excel(writer, index = False)\n",
    "\n",
    "writer.save()"
   ]
  },
  {
   "cell_type": "markdown",
   "id": "9d933cb0",
   "metadata": {},
   "source": [
    "###### Chosen Sites BTM Daily(peak hour) sum of data from 10am 3pm"
   ]
  },
  {
   "cell_type": "code",
   "execution_count": 19,
   "id": "ec54c6d4",
   "metadata": {},
   "outputs": [],
   "source": [
    "DF3 = DF[(DF['Hour']>10)&(DF['Hour']<=15)].reset_index(drop = True)\n",
    "DF3 = DF3.groupby(['Year', 'Month', 'Day']).sum()\n",
    "DF3 = DF3.reset_index()\n",
    "del DF3['Hour']\n",
    "DF3['DateTime'] = pd.PeriodIndex(year = DF3['Year'], month = DF3['Month'],\n",
    "                            day = DF3['Day'], freq = 'D')\n",
    "#DF3['DateTime'] = DF3['DateTime'].map(lambda x: x.to_timestamp())"
   ]
  },
  {
   "cell_type": "code",
   "execution_count": 20,
   "id": "4f6f9181",
   "metadata": {},
   "outputs": [],
   "source": [
    "DF3 =  DF3[columns_name]"
   ]
  },
  {
   "cell_type": "code",
   "execution_count": 21,
   "id": "eb7ff5cc",
   "metadata": {},
   "outputs": [],
   "source": [
    "writer = pd.ExcelWriter(r'Chosen_Sites_BTM_Daily_10am_3pm.xlsx', \n",
    "                                engine = 'xlsxwriter')\n",
    "DF3.to_excel(writer, index = False)\n",
    "\n",
    "writer.save()"
   ]
  },
  {
   "cell_type": "code",
   "execution_count": null,
   "id": "8a5aae06",
   "metadata": {},
   "outputs": [],
   "source": []
  }
 ],
 "metadata": {
  "kernelspec": {
   "display_name": "ZhongJ",
   "language": "python",
   "name": "zhongj"
  },
  "language_info": {
   "codemirror_mode": {
    "name": "ipython",
    "version": 3
   },
   "file_extension": ".py",
   "mimetype": "text/x-python",
   "name": "python",
   "nbconvert_exporter": "python",
   "pygments_lexer": "ipython3",
   "version": "3.7.1"
  }
 },
 "nbformat": 4,
 "nbformat_minor": 5
}
