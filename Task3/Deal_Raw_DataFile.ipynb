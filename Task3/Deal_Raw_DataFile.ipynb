{
 "cells": [
  {
   "cell_type": "code",
   "execution_count": 2,
   "id": "7d2e9560",
   "metadata": {},
   "outputs": [],
   "source": [
    "import os\n",
    "import pandas as pd\n",
    "import numpy as np\n",
    "\n",
    "import matplotlib.pyplot as plt\n",
    "\n",
    "import xlwt"
   ]
  },
  {
   "cell_type": "code",
   "execution_count": 3,
   "id": "89fcbdf2",
   "metadata": {},
   "outputs": [],
   "source": [
    "files = \"C:/Users/zhongj/Desktop/Task3_Data\" #go to files direction\n",
    "os.chdir(files)"
   ]
  },
  {
   "cell_type": "markdown",
   "id": "f4573d11",
   "metadata": {},
   "source": [
    "### Sites Information"
   ]
  },
  {
   "cell_type": "code",
   "execution_count": 4,
   "id": "f3b85de4",
   "metadata": {},
   "outputs": [],
   "source": [
    "df0 = pd.read_excel(\"NYSERDA_DER_Metric_Data.xlsx\", sheet_name = 'Facilities', \n",
    "                    usecols = ['Facility ID', 'Facility Name', 'ZIP', 'Latitude (°N)', 'Longitude (°E)', \n",
    "                               'Total Rated Electric Generation (kW)', 'Electric Utility', 'NYISO Zone'])\n",
    "df0.columns =  ['Facility_ID', 'Facility_Name', 'ZIP', 'Latitude', 'Longitude', \n",
    "                'Total_Capacity', 'Electric_Utility', 'NYISO_Zone']\n",
    "\n",
    "df1 = pd.read_excel(\"NYSERDA_DER_Metric_Data.xlsx\", sheet_name = 'Projects',\n",
    "                    usecols = ['Project ID', 'Facility ID', 'Technology'])\n",
    "df1.columns = ['Project_ID', 'Facility_ID', 'Technology']\n",
    "\n",
    "df2 = pd.read_excel(\"NYSERDA_DER_Metric_Data.xlsx\", sheet_name = 'DE Resources',\n",
    "                    usecols = ['Project ID', 'Tilt (° from horizontal)', 'Azimuth (° from North)'])\n",
    "df2.columns =  ['Project_ID', 'Tilt', 'Azimuth']"
   ]
  },
  {
   "cell_type": "code",
   "execution_count": 5,
   "id": "bdc7ade9",
   "metadata": {},
   "outputs": [],
   "source": [
    "df = pd.merge(df0, df1, on = ['Facility_ID'])\n",
    "\n",
    "df = pd.merge(df, df2, on = ['Project_ID'])\n",
    "\n",
    "df = df[df['Technology'] == 'Solar PV']\n",
    "df = df.reset_index(drop = True)\n",
    "del df['Technology']\n",
    "\n",
    "df =  df[['Project_ID', 'Facility_ID', 'Facility_Name','Total_Capacity', \n",
    "               'ZIP', 'Latitude', 'Longitude', 'Tilt', 'Azimuth','NYISO_Zone', 'Electric_Utility']]"
   ]
  },
  {
   "cell_type": "code",
   "execution_count": null,
   "id": "31b9b7f7",
   "metadata": {},
   "outputs": [],
   "source": [
    "writer = pd.ExcelWriter(r'Sites_Information.xlsx', \n",
    "                                engine = 'xlsxwriter')\n",
    "df.to_excel(writer, index= False)\n",
    "\n",
    "writer.save()"
   ]
  },
  {
   "cell_type": "markdown",
   "id": "da17d869",
   "metadata": {},
   "source": [
    "### Solar Data for sites"
   ]
  },
  {
   "cell_type": "code",
   "execution_count": null,
   "id": "959f220c",
   "metadata": {},
   "outputs": [],
   "source": [
    "#Here using Solar_2019_01_through_2021_03_01_first_edit file\n",
    "\n",
    "# I editted the original csv file manually using notepad, which I deleted the second line (this line contains names of sites)\n",
    "\n",
    "import csv\n",
    "file_path = \"Solar_2019_01_through_2021_03_01_first_edit.csv\" #input file \n",
    "file_path2 = \"All_Sites_BTM_Solar_Data_Edit_15_Min_Interval.csv\" #output file\n",
    "\n",
    "with open(file_path, 'r', newline='') as inputfile: #read file\n",
    "    with open(file_path2, 'w', newline='') as outputfile: \n",
    "        reader = csv.reader(inputfile) \n",
    "        writer = csv.writer(outputfile)\n",
    "        for row in reader:\n",
    "            new_row = ['' if ('-' in i) else i for i in row] #changing all the '-' to Nothing\n",
    "            writer.writerow(new_row) \n",
    "            \n",
    "inputfile.close()\n",
    "outputfile.close()"
   ]
  },
  {
   "cell_type": "code",
   "execution_count": null,
   "id": "ab08775b",
   "metadata": {},
   "outputs": [],
   "source": [
    "df3= pd.read_csv(\"All_Sites_BTM_Solar_Data_Edit_15_Min_Interval.csv\") "
   ]
  },
  {
   "cell_type": "code",
   "execution_count": null,
   "id": "a32edf09",
   "metadata": {},
   "outputs": [],
   "source": [
    "df4 = df3.iloc[:, 1:].astype(float) #convert all the data to float\n",
    "\n",
    "Project_ID = df4.columns #Get all the sites project id"
   ]
  },
  {
   "cell_type": "code",
   "execution_count": null,
   "id": "bcc7f789",
   "metadata": {},
   "outputs": [],
   "source": [
    "#Get times\n",
    "df4['DateTime'] = pd.to_datetime(df3['date time'])\n",
    "df4[\"Date\"] = df4['DateTime'].dt.date\n",
    "df4[\"Year\"] = df4['DateTime'].dt.year\n",
    "df4[\"Month\"] = df4['DateTime'].dt.month\n",
    "df4[\"Day\"] = df4['DateTime'].dt.day\n",
    "df4[\"Hour\"] = df4['DateTime'].dt.hour\n",
    "df4[\"Min\"] = df4['DateTime'].dt.minute"
   ]
  },
  {
   "cell_type": "code",
   "execution_count": null,
   "id": "bb2470be",
   "metadata": {},
   "outputs": [],
   "source": [
    "date = list(df4['Date'].unique()) #get all unique dates\n",
    "year = list(df4['Year'].unique()) #get all unique years"
   ]
  },
  {
   "cell_type": "code",
   "execution_count": null,
   "id": "f24083ea",
   "metadata": {},
   "outputs": [],
   "source": [
    "# Change Hours since the timestamp represntative interval ending\n",
    "df4['Hour'] = df4.apply(lambda x:(x['Hour']-1) if (x['Min']==0) else(x['Hour']), axis=1)\n",
    "df4['Hour'] = df4.apply(lambda x:(x['Hour']+1) , axis=1)\n",
    "df4 = df4[df4['Hour']<24]"
   ]
  },
  {
   "cell_type": "code",
   "execution_count": null,
   "id": "fb5ae3c1",
   "metadata": {},
   "outputs": [],
   "source": [
    "# for any day, if there is no solar generation behaviors pattern from 6am to 7pm in that dat, then change all data in that day to None\n",
    "# rule:\n",
    "    # if there are more that 24 data(15 mins interval) from 7am to 6pm in that day has the same values(values greater that 0), then it has  no solar generation behaviors pattern\n",
    "    #(7am to 6pm is 12 hours with 15 mins internval in each hour, so there will be 48 data)\n",
    "\n",
    "\n",
    "from collections import Counter\n",
    "\n",
    "list_date = []\n",
    "for p in Project_ID:\n",
    "    for d in date:\n",
    "        #choose data: anyday, from  7am to 6pm, values greater that 0\n",
    "        df_s = df4[(df4['Date']==d)&(df4[p]>0)&(df4['Hour']>6)&(df4['Hour']<19)].reset_index() \n",
    "        s = list(df_s[p]) #convert data to list\n",
    "        \n",
    "        if len(s)>0: #if there is data\n",
    "            \n",
    "            # using Counter function in Python3, get a dictionary\n",
    "            # The dictionary contains each number(solar generation) and its frequency\n",
    "            count = dict(Counter(s))  \n",
    "            max_value  = max(count.values())\n",
    "            \n",
    "            if max_value > 24: #if it shows up more than 24 times\n",
    "                 df4[p].loc[df4['Date']==d] = None"
   ]
  },
  {
   "cell_type": "code",
   "execution_count": null,
   "id": "99f3be5a",
   "metadata": {},
   "outputs": [],
   "source": [
    "# Change the columns position:\n",
    "\n",
    "c = ['DateTime', 'Year','Month', 'Day', 'Hour','Min']\n",
    "for p in Project_ID:\n",
    "    c.append(p)\n",
    "df4 =  df4[c]"
   ]
  },
  {
   "cell_type": "markdown",
   "id": "087ec06a",
   "metadata": {},
   "source": [
    "#### delete all the solar values that are too much larger than the capacity"
   ]
  },
  {
   "cell_type": "code",
   "execution_count": 6,
   "id": "fcb354c8",
   "metadata": {},
   "outputs": [],
   "source": [
    "df4= pd.read_csv(\"All_Sites_BTM_Solar_Data_Edit_15_Min_Interval.csv\")"
   ]
  },
  {
   "cell_type": "code",
   "execution_count": 15,
   "id": "402fb6e5",
   "metadata": {},
   "outputs": [],
   "source": [
    "df5 = df4.groupby(['Year', 'Month', 'Day','Hour']).sum()\n",
    "df5 = df5.reset_index()\n",
    "del df5['Min']"
   ]
  },
  {
   "cell_type": "code",
   "execution_count": 16,
   "id": "7e67b5f2",
   "metadata": {},
   "outputs": [],
   "source": [
    "Project_ID = list(df4.columns)\n",
    "Project_ID.remove('DateTime')\n",
    "Project_ID.remove('Year')\n",
    "Project_ID.remove('Month')\n",
    "Project_ID.remove('Day')\n",
    "Project_ID.remove('Hour')\n",
    "Project_ID.remove('Min')"
   ]
  },
  {
   "cell_type": "code",
   "execution_count": 17,
   "id": "6bea7366",
   "metadata": {},
   "outputs": [],
   "source": [
    "dff = df.copy()\n",
    "dff.index = dff['Project_ID']\n",
    "sites2 = list(map(int, Project_ID))\n",
    "dff = dff.loc[sites2,:]\n",
    "dff = dff.reset_index(drop = True)"
   ]
  },
  {
   "cell_type": "code",
   "execution_count": 18,
   "id": "0e9080df",
   "metadata": {},
   "outputs": [],
   "source": [
    "for p in Project_ID:\n",
    "    total_C = dff[dff['Project_ID']== int(p)]['Total_Capacity'].values[0]\n",
    "    df5[p] = df5[p]/total_C"
   ]
  },
  {
   "cell_type": "code",
   "execution_count": null,
   "id": "25b80bf3",
   "metadata": {},
   "outputs": [],
   "source": [
    "for s in Project_ID:\n",
    "    df_s = df5[['Year', 'Month', 'Day', 'Hour',s]]\n",
    "    for index, row in df_s.iterrows():\n",
    "        if (row[s]> 5):\n",
    "            print(df4[(df4['Year']==row['Year'])&(df4['Month']==row['Month'])&(df4['Day']==row['Day'])&(df4['Hour']==row['Hour'])][s])"
   ]
  },
  {
   "cell_type": "code",
   "execution_count": 14,
   "id": "2b5f86f2",
   "metadata": {},
   "outputs": [],
   "source": [
    "df4.to_csv(r'All_Sites_BTM_Solar_Data_Edit_15_Min_Interval.csv', index = False)"
   ]
  },
  {
   "cell_type": "code",
   "execution_count": 22,
   "id": "8730ee4f",
   "metadata": {},
   "outputs": [],
   "source": [
    "df5 = df4.groupby(['Year', 'Month', 'Day','Hour']).sum()\n",
    "df5 = df5.reset_index()\n",
    "del df5['Min']"
   ]
  },
  {
   "cell_type": "code",
   "execution_count": null,
   "id": "4ebd0983",
   "metadata": {},
   "outputs": [],
   "source": []
  }
 ],
 "metadata": {
  "kernelspec": {
   "display_name": "Python 3",
   "language": "python",
   "name": "python3"
  },
  "language_info": {
   "codemirror_mode": {
    "name": "ipython",
    "version": 3
   },
   "file_extension": ".py",
   "mimetype": "text/x-python",
   "name": "python",
   "nbconvert_exporter": "python",
   "pygments_lexer": "ipython3",
   "version": "3.7.1"
  }
 },
 "nbformat": 4,
 "nbformat_minor": 5
}
