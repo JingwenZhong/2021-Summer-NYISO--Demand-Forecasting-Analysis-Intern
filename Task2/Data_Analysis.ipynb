{
 "cells": [
  {
   "cell_type": "code",
   "execution_count": 1,
   "metadata": {},
   "outputs": [],
   "source": [
    "import os\n",
    "import pandas as pd\n",
    "import numpy as np\n",
    "\n",
    "\n",
    "import matplotlib.pyplot as plt\n",
    "from matplotlib.pyplot import MultipleLocator\n",
    "import seaborn as sns\n",
    "%matplotlib inline"
   ]
  },
  {
   "cell_type": "code",
   "execution_count": 2,
   "metadata": {},
   "outputs": [],
   "source": [
    "# files_dir = \"C:/Users/zhongj/Desktop/Task2_Data/Final_Zonal_Data_for_DA\" \n",
    "# os.chdir(files_dir)"
   ]
  },
  {
   "cell_type": "markdown",
   "metadata": {},
   "source": [
    "### General plot"
   ]
  },
  {
   "cell_type": "code",
   "execution_count": 3,
   "metadata": {},
   "outputs": [],
   "source": [
    "# edit the file \n",
    "def edit_df(file):\n",
    "    df = pd.read_excel(file)\n",
    "    #add a DateTime Column (format: period):\n",
    "    df['DateTime'] = pd.PeriodIndex(year = df['Year'], month = df['Month'],\n",
    "                                    day = df['Day'], hour = df['Hour'], freq = 'H')\n",
    "    #change format to datatime:\n",
    "    df['DateTime'] = df['DateTime'].map(lambda x: x.to_timestamp())\n",
    "    return df"
   ]
  },
  {
   "cell_type": "code",
   "execution_count": 4,
   "metadata": {},
   "outputs": [],
   "source": [
    "# df = edit_df('ZoneK_FinalData.xlsx')"
   ]
  },
  {
   "cell_type": "code",
   "execution_count": 5,
   "metadata": {},
   "outputs": [],
   "source": [
    "# def general_plot(df, category, HB, HE):\n",
    "#     Zone_name = list(df['Zone'].unique())[0] #Zone name\n",
    "#     n = len(category)\n",
    "    \n",
    "#     df2 = df.loc[(df['Hour'] >= HB) &(df['Hour'] <= HE)] #Time period\n",
    "#     cat_data = df2.loc[:, ['DateTime', category]] # Narrow dataframe\n",
    "    \n",
    "#     # plot:\n",
    "#     fig, ax = plt.subplots(1,1,figsize = (20,8))\n",
    "#     ax.plot(cat_data['DateTime'], cat_data['%s'%category],'o',markersize=2, alpha = 0.5)\n",
    "#     # plot setting:\n",
    "#     ax.set_title('Zone %s - %s Hourly Behavior from %d:00 to %d:00 in 2017-2020'%(Zone_name, \n",
    "#                                                                                   category, HB, HE))\n",
    "#     ax.set_ylabel('%s'%category)\n",
    "#     ax.grid(color = 'grey', alpha =0.1)\n",
    "#     ax.xaxis.grid(False)\n",
    "    \n",
    "#     plt.show() # show plot in python\n",
    "#     # save plot in current file dir\n",
    "#     fig.savefig('Zone%s %s Hourly General Behavior'%(Zone_name, category), bbox_inches=\"tight\")\n",
    "\n",
    "#     # 3 ways to close plots:\n",
    "#         # (seems like it doesn't work, but I put them here in case it works)\n",
    "#     plt.cla()\n",
    "#     plt.clf()\n",
    "#     plt.close(fig)"
   ]
  },
  {
   "cell_type": "code",
   "execution_count": 6,
   "metadata": {},
   "outputs": [],
   "source": [
    "# feature_ = ['DateTime','BTM', 'GHI', 'POA20','POA30']\n",
    "# general_plot(df, feature_ , 6, 19)"
   ]
  },
  {
   "cell_type": "code",
   "execution_count": 51,
   "metadata": {},
   "outputs": [],
   "source": [
    "def general_plot(df, features, HB, HE):\n",
    "    Zone_name = list(df['Zone'].unique())[0] #Zone name\n",
    "    n = (len(features)-1)\n",
    "    \n",
    "    df2 = df.loc[(df['Hour'] >= HB) &(df['Hour'] <= HE)] #Time period\n",
    "    cat_data = df2[features] # Narrow dataframe\n",
    "    \n",
    "    # plot:\n",
    "    fig, ax = plt.subplots(n,1,figsize = (15,15))\n",
    "    plt.title('Zone %s - Hourly Behavior from %d:00 to %d:00 in 2017-2020'%(Zone_name, HB, HE))\n",
    "    \n",
    "    for i in range(n):\n",
    "        ax[i].plot(cat_data['DateTime'], cat_data[features[i+1]],'o',markersize=2, alpha = 0.5)\n",
    "        # plot setting:\n",
    "        ax[i].set_title('Zone %s - %s - All data points from %d:00 to %d:00 in 2017-2020 (hourly interval)'%(Zone_name, \n",
    "                                                                                                        features[i+1], HB, HE))\n",
    "        ax[i].set_ylabel('%s'%features[i+1])\n",
    "        ax[i].grid(color = 'grey', alpha =0.1)\n",
    "        ax[i].xaxis.grid(False)\n",
    "\n",
    "        # plt.show() # show plot in python\n",
    "        # save plot in current file dir\n",
    "    fig.savefig('Zone%s_Solar_Data_Hourly_General_Behavior'%(Zone_name), bbox_inches=\"tight\")\n",
    "\n",
    "    # 3 ways to close plots:\n",
    "        # (seems like it doesn't work, but I put them here in case it works)\n",
    "    plt.cla()\n",
    "    plt.clf()\n",
    "    plt.close(fig)"
   ]
  },
  {
   "cell_type": "markdown",
   "metadata": {},
   "source": [
    "### Contour plot"
   ]
  },
  {
   "cell_type": "code",
   "execution_count": 8,
   "metadata": {},
   "outputs": [],
   "source": [
    "# input math should be: 'max', 'min', 'sd', 'mean'\n",
    "def choose_data(df, category, math): \n",
    "    Zone_name = list(df['Zone'].unique())[0] # Zone name\n",
    "    df = df[(df['Hour']>=5)&(df['Hour']<=20)]\n",
    "    cat_data = df.loc[:, ['Month', 'Hour','%s'%category]] #Choose catergory\n",
    "   \n",
    "    \n",
    "    if math == 'max':\n",
    "        cat_data = cat_data.groupby(['Month', 'Hour']).max()\n",
    "        cat_data = cat_data.reset_index()\n",
    "        math = 'Maximum'\n",
    "    elif math == 'min':\n",
    "        cat_data = cat_data.groupby(['Month', 'Hour']).min()\n",
    "        cat_data = cat_data.reset_index()\n",
    "        math = 'Minimum Value'\n",
    "    elif math == 'sd':\n",
    "        cat_data = cat_data.groupby(['Month', 'Hour']).std()\n",
    "        cat_data = cat_data.reset_index()\n",
    "        math = 'Standard Deviation'\n",
    "    else:\n",
    "        cat_data = cat_data.groupby(['Month', 'Hour']).mean()\n",
    "        cat_data = cat_data.reset_index()\n",
    "        math = 'Average Value'\n",
    "        \n",
    "    return cat_data, Zone_name, math"
   ]
  },
  {
   "cell_type": "code",
   "execution_count": 9,
   "metadata": {},
   "outputs": [],
   "source": [
    "def change_data_structure(cat_data):\n",
    "    \n",
    "    x = sorted(list(set(cat_data['Month'].values))) #horizontal axis (column names)\n",
    "    y = sorted(list(set(cat_data['Hour'].values))) # vertical axis (Row names)\n",
    "    df_new = cat_data.loc[:, ['Month', 'Hour']]\n",
    "\n",
    "# code no need to be used:\n",
    "#     df_new = pd.DataFrame(columns = cat_data.columns.values[:2])  \n",
    "#     for i in x:\n",
    "#         curX = np.array([i]*len(y))\n",
    "#         curX.shape = (len(y),1)\n",
    "#         curY = np.array(y)\n",
    "#         curY.shape = (len(y),1)\n",
    "\n",
    "#         join_h = np.hstack((curX,curY))\n",
    "\n",
    "#         df_new = df_new.append(pd.DataFrame(join_h, columns = cat_data.columns.values[:2]), \n",
    "#                                ignore_index = True)\n",
    "    \n",
    "    df_new2 = pd.merge(cat_data, df_new, how='right', on = list(df_new.columns.values))\n",
    "    \n",
    "    index_list = []\n",
    "    for j in y:\n",
    "        index_list.append(df_new2.loc[df_new2[cat_data.columns.values[1]] == j][cat_data.columns.values[2]].values)\n",
    "    \n",
    "    return x, y, index_list"
   ]
  },
  {
   "cell_type": "code",
   "execution_count": 32,
   "metadata": {},
   "outputs": [],
   "source": [
    "#7 inputs extracted from previous functions\n",
    "def contour_plot(x, y, index_list, Zone_name, category, math): \n",
    "    X,Y = np.meshgrid(x,y) # get x-axis and y-axis\n",
    "    \n",
    "    #plot:\n",
    "    fig, ax = plt.subplots(1,1,figsize = (15,10))\n",
    "    ax.contourf(X,Y,index_list, 10,cmap = plt.cm.hot)\n",
    "    c = plt.contour(X,Y, index_list, 10, colors = 'black' )\n",
    "    \n",
    "    #setting:\n",
    "    ax.clabel(c, inline = True, fontsize = 10)\n",
    "    ax.set_ylabel('Hour')\n",
    "    ax.set_xlabel('Month')\n",
    "    ax.set_title('Zone%s - %s of %s of each hour in each month'%(Zone_name, math, category))\n",
    "    \n",
    "    # plt.show() # show plot in python\n",
    "    # save plot in current file dir\n",
    "    fig.savefig('Zone%s_%s_of_%s_Contour_Plot'%(Zone_name, math, category),bbox_inches=\"tight\")\n",
    "    \n",
    "    # 3 ways to close plots:\n",
    "        # (seems like it doesn't work, but I put them here in case it works)\n",
    "    plt.cla()\n",
    "    plt.clf()\n",
    "    plt.close(fig)"
   ]
  },
  {
   "cell_type": "code",
   "execution_count": 11,
   "metadata": {
    "scrolled": false
   },
   "outputs": [],
   "source": [
    "# combine above 3 functions\n",
    "def contour_plot_final(df, category, math):\n",
    "    cat_data, Zone_name, math  = choose_data(df, category, math)\n",
    "    x, y, s = change_data_structure(cat_data)\n",
    "    contour_plot(x, y, s, Zone_name, category, math)"
   ]
  },
  {
   "cell_type": "code",
   "execution_count": 12,
   "metadata": {},
   "outputs": [],
   "source": [
    "# convert data to 12*24 dataframe and output a excel file\n",
    "def data_table(df, category, math):\n",
    "    cat_data, Zone_name, math  = choose_data(df, category, math) #use previous function\n",
    "    x, y, s = change_data_structure(cat_data) #use previous function\n",
    "    data_table  = pd.DataFrame(s,columns = x) # dataframe\n",
    "    return data_table"
   ]
  },
  {
   "cell_type": "markdown",
   "metadata": {},
   "source": [
    "### Correlation"
   ]
  },
  {
   "cell_type": "code",
   "execution_count": 13,
   "metadata": {},
   "outputs": [],
   "source": [
    "# setting for upper triangle of correlation plots:\n",
    "def corrdot(*args, **kwargs):\n",
    "    corr_r = args[0].corr(args[1], 'pearson')\n",
    "    corr_text = f\"{corr_r:2.2f}\".replace(\"0.\", \".\")\n",
    "    ax = plt.gca()\n",
    "    ax.set_axis_off()\n",
    "    marker_size = abs(corr_r) * 10000\n",
    "    ax.scatter([.5], [.5], marker_size, [corr_r], alpha=0.6, cmap=\"coolwarm\",\n",
    "               vmin=-1, vmax=1, transform=ax.transAxes)\n",
    "    font_size = abs(corr_r) * 40 + 5\n",
    "    ax.annotate(corr_text, [.5, .5,],  xycoords=\"axes fraction\",\n",
    "                ha='center', va='center', fontsize=font_size)\n",
    "\n",
    "    sns.set(style='white', font_scale=1.6)"
   ]
  },
  {
   "cell_type": "code",
   "execution_count": 14,
   "metadata": {},
   "outputs": [],
   "source": [
    "def corr(df, variables, HB, HE):\n",
    "    #choose data and time range:\n",
    "    n = len(variables)\n",
    "    Zone_name = list(df['Zone'].unique())[0] #Zone name\n",
    "    cor_data = df.loc[:, variables]\n",
    "    cor_data = cor_data.loc[(df['Hour'] >= HB) &(df['Hour'] <= HE)]\n",
    "    \n",
    "    #plot:\n",
    "    g = sns.PairGrid(cor_data, aspect=1.4, diag_sharey=False)\n",
    "    g.map_lower(sns.regplot, lowess=True, ci=False, line_kws={'color': 'black'}) #lower triangle\n",
    "    g.map_diag(sns.distplot, kde_kws={'color': 'black'}) #diagonal\n",
    "#     g.map_upper(corrdot) #upper triangle\n",
    "    #title:\n",
    "    g.fig.suptitle('Zone%s - Correlation Scatter Plots Between Variables'%(Zone_name, HB, HE), y=1.08)\n",
    "    \n",
    "    # plt.show() # show plot in python\n",
    "    # save plot in current file dir\n",
    "    plt.savefig('Zone%s_Correlation_Scatter_Plots_of_%d_variables'%(Zone_name, n), bbox_inches=\"tight\")\n",
    "   \n",
    "    # 2 ways to close plots:\n",
    "        # (seems like it doesn't work, but I put them here in case it works)\n",
    "    plt.cla()\n",
    "    plt.clf()"
   ]
  },
  {
   "cell_type": "code",
   "execution_count": 15,
   "metadata": {},
   "outputs": [],
   "source": [
    "# variables =  ['BTM', 'GHI', 'POA20','POA30']\n",
    "# corr(df, variables, 10, 14)"
   ]
  },
  {
   "cell_type": "code",
   "execution_count": 16,
   "metadata": {},
   "outputs": [],
   "source": [
    "# variables =  ['BTM','_CLC', '_DBT60', '_DEW', '_SSM','_THI','_WCI', '_WSP']\n",
    "# corr(df, variables, 10, 14)"
   ]
  },
  {
   "cell_type": "markdown",
   "metadata": {},
   "source": [
    "### Correlation - Heatmap"
   ]
  },
  {
   "cell_type": "code",
   "execution_count": 39,
   "metadata": {},
   "outputs": [],
   "source": [
    "def corr_hm(df, variables, HB, HE):\n",
    "    n = len(variables)\n",
    "   \n",
    "    Zone_name = list(df['Zone'].unique())[0] #Zone name\n",
    "    \n",
    "    #choose data and time range\n",
    "    cor_data =  df.loc[:, variables]\n",
    "    cor_data = cor_data.loc[(df['Hour'] >= HB) &(df['Hour'] <= HE)]\n",
    "    \n",
    "    #setting:\n",
    "    plt.figure(figsize=(15,10))\n",
    "    plt.title('Zone%s - Correlation Between Variables'%(Zone_name))\n",
    "    \n",
    "    #plot:\n",
    "    correlation_mat = cor_data.corr()\n",
    "    upp_mat = np.triu(correlation_mat)\n",
    "    sns.heatmap(correlation_mat, annot = True, cmap=\"RdYlGn_r\",mask = upp_mat)\n",
    "\n",
    "    # plt.show() # show plot in python\n",
    "    # save plot in current file dir\n",
    "    plt.savefig('Zone%s_Correlation_Between_%d_Variables'%(Zone_name, n), \n",
    "                bbox_inches=\"tight\")\n",
    "   \n",
    "    # 2 ways to close plots:\n",
    "        # (seems like it doesn't work, but I put them here in case it works)\n",
    "    plt.cla()\n",
    "    plt.clf()"
   ]
  },
  {
   "cell_type": "code",
   "execution_count": 18,
   "metadata": {},
   "outputs": [],
   "source": [
    "# variables = ['BTM', 'GHI', 'POA20',\n",
    "#            'POA30', '_CLC', '_DBT60', '_DEW', '_GHI60', '_SSM', '_THI', \n",
    "#              '_WCI','_WDR', '_WET', '_WSP']\n",
    "# corr_hm(df, variables, 10, 14)"
   ]
  },
  {
   "cell_type": "markdown",
   "metadata": {},
   "source": [
    "### BTM Correlation Between Zones"
   ]
  },
  {
   "cell_type": "code",
   "execution_count": 46,
   "metadata": {},
   "outputs": [],
   "source": [
    "def Zonal_corr_plot(df, HB, HE, Zones):   \n",
    "    df['HourlyInt'] = pd.to_datetime(df['HourlyInt'])\n",
    "    df['Month'] =  df['HourlyInt'].dt.month\n",
    "    df['Day'] =  df['HourlyInt'].dt.day\n",
    "    df['Hour'] =  df['HourlyInt'].dt.hour\n",
    "    \n",
    "    #choose data and time range:\n",
    "    df2 = df.loc[(df['Hour'] >= HB) &(df['Hour'] <= HE)] \n",
    "    df2 = df2.groupby(['Year', 'Month', 'Day']).mean()\n",
    "    df2 = df2.reset_index()\n",
    "    \n",
    "    cor_data =  df2.loc[:, Zones]\n",
    "    \n",
    "    #setting: \n",
    "    plt.figure(figsize=(15,10))\n",
    "    plt.title('Zonal Cross Correlation')\n",
    "    \n",
    "    #plot:\n",
    "    correlation_mat = cor_data.corr()\n",
    "    upp_mat = np.triu(correlation_mat)\n",
    "    sns.heatmap(correlation_mat, annot = True,cmap=\"RdYlGn_r\",mask = upp_mat)\n",
    "\n",
    "    # plt.show() # show plot in python\n",
    "    # save plot in current file dir\n",
    "    plt.savefig('Zonal_Cross_Correlation', bbox_inches=\"tight\")\n",
    "   \n",
    "    # 2 ways to close plots:\n",
    "        # (seems like it doesn't work, but I put them here in case it works)\n",
    "    plt.cla()\n",
    "    plt.clf()\n",
    "    \n",
    "    return cor_data, HB, HE"
   ]
  },
  {
   "cell_type": "code",
   "execution_count": 20,
   "metadata": {
    "scrolled": true
   },
   "outputs": [],
   "source": [
    "# file = 'C:/Users/zhongj/Desktop/Data/Normalized_Solar.xlsx'\n",
    "# df_zone = pd.read_excel(file)\n",
    "# Zones = ['A','B','C','D','E','F','G','H','I','J','K','S']\n",
    "# Zonal_corr_plot(df_zone, 14, 18, Zones)"
   ]
  },
  {
   "cell_type": "code",
   "execution_count": 21,
   "metadata": {},
   "outputs": [],
   "source": [
    "# output zonal correlation excel file\n",
    "def data_table2(cor_data): \n",
    "    data_table = cor_data.corr()\n",
    "    return data_table"
   ]
  },
  {
   "cell_type": "markdown",
   "metadata": {},
   "source": [
    "### Bonus - Correlation between daily Maximum BTM and daily Maximum Temperatures"
   ]
  },
  {
   "cell_type": "code",
   "execution_count": 22,
   "metadata": {},
   "outputs": [],
   "source": [
    "# amounts: percentage of the data here is 10%; sort_by:here is GHI\n",
    "    #: top 10% of data sort by GHI value from big to small\n",
    "def Select_data(df, amounts, sort_by):\n",
    "    count = round(len(df)* amounts)\n",
    "    df1 = df.sort_values(by = [sort_by], ascending = False).reset_index(drop = True)\n",
    "    df1 = df1.iloc[:count]\n",
    "    df1 = df1.sort_values(by = ['Year','Month', 'Day', 'Hour']).reset_index(drop = True)\n",
    "    # df1 = df1.groupby(['Year', 'Month', 'Day']).max()\n",
    "    df1 = df1.loc[(df1['_THI'] >= 70)]\n",
    "    return df1, amounts"
   ]
  },
  {
   "cell_type": "code",
   "execution_count": 23,
   "metadata": {},
   "outputs": [],
   "source": [
    "def corr_hm_BTM_Tem(df, variables, amounts, sort_by):\n",
    "    Zone_name = list(df['Zone'].unique())[0] #Zone name\n",
    "    \n",
    "    df1, amounts = Select_data(df, amounts, sort_by)\n",
    "    \n",
    "    cor_data = df1.loc[:, variables] #choose data\n",
    "    \n",
    "    amounts = amounts*100\n",
    "    \n",
    "    # plot:\n",
    "    g = sns.PairGrid(cor_data, aspect=1.4, diag_sharey=False)\n",
    "    g.map_lower(sns.regplot, lowess=True, ci=False, line_kws={'color': 'black'})\n",
    "    g.map_diag(sns.distplot, kde_kws={'color': 'black'})\n",
    "    g.map_upper(corrdot)\n",
    "    g.fig.suptitle('Zone%s - Correlation Between BTM, THI(Higher than 70) with top %d%% %s'%(Zone_name, amounts, sort_by), y=1.08)\n",
    "   \n",
    "    # plt.show() # show plot in python\n",
    "    # save plot in current file dir\n",
    "    plt.savefig('Zone%s_Correlation_Between_BTM_and_Temperatures'%(Zone_name), bbox_inches=\"tight\")\n",
    "    \n",
    "    # 2 ways to close plots:\n",
    "        # (seems like it doesn't work, but I put them here in case it works)\n",
    "    plt.cla()\n",
    "    plt.clf()"
   ]
  },
  {
   "cell_type": "code",
   "execution_count": 24,
   "metadata": {},
   "outputs": [],
   "source": [
    "# variables = ['BTM', '_THI','_DBT60']\n",
    "\n",
    "# corr_hm_BTM_Tem(df, variables, 0.01, 'GHI')"
   ]
  },
  {
   "cell_type": "markdown",
   "metadata": {},
   "source": [
    "### Ramping Distributions"
   ]
  },
  {
   "cell_type": "code",
   "execution_count": 25,
   "metadata": {},
   "outputs": [],
   "source": [
    "import warnings\n",
    "warnings.filterwarnings('ignore')\n",
    "#hour_diff: ramping interval\n",
    "\n",
    "def ramping(df, hour_diff, HB, HE):\n",
    "    Zone_name = list(df['Zone'].unique())[0] #Zone name\n",
    "    df1 = df.loc[(df['Hour'] >= HB) &(df['Hour'] <= HE)] #time range\n",
    "    grouped = df.groupby(['Year', 'Month', 'Day'])\n",
    "    \n",
    "    year = list(df['Year'].unique())\n",
    "    month =list(df['Month'].unique())\n",
    "    \n",
    "    df_diff1 = pd.Series()\n",
    "    \n",
    "    #get differnce of 'hour_diff' days in each month and each year:\n",
    "    for i in year:\n",
    "        for j in month:\n",
    "            day = list(df[(df['Year'] == i) & (df['Month'] == j)]['Day'].unique())\n",
    "            for k in day:\n",
    "                df2 = grouped.get_group((i,j,k))\n",
    "                df2 = df2.loc[:, 'BTM'].reset_index(drop = True)\n",
    "                df3 = df2.diff(hour_diff)\n",
    "                df3 = df3.dropna(axis=0, how='any', inplace=False)\n",
    "                df_diff1 = pd.concat([df_diff1, df3], ignore_index = True) \n",
    "                \n",
    "    return df_diff1, Zone_name"
   ]
  },
  {
   "cell_type": "code",
   "execution_count": 40,
   "metadata": {},
   "outputs": [],
   "source": [
    "import scipy.stats as stats\n",
    "import matplotlib.ticker as mtick\n",
    "\n",
    "def ramping_plot(df, hour_diff, HB, HE, n_sigma):\n",
    "    \n",
    "    df2, Zone_name = ramping(df, hour_diff, HB, HE)\n",
    "    \n",
    "    # 3 sigma\n",
    "    mean = np.mean(df2)\n",
    "    std = np.std(df2)\n",
    "    threshhold1 = mean - n_sigma *std\n",
    "    threshhold2 = mean + n_sigma *std\n",
    "    \n",
    "    #plot:\n",
    "    fig, ax = plt.subplots(1,1,figsize = (15,5))\n",
    "    n,x,_ = plt.hist(df2, bins= 150, rwidth=0.95, log=True, label = '', alpha = 0.5)\n",
    "    \n",
    "    density = stats.gaussian_kde(df2)\n",
    "\n",
    "    plt.plot(x, density.pdf(x), lw=2)\n",
    "    \n",
    "    #setting:\n",
    "    ax.set_ylabel('Log scaled Frequency')\n",
    "    ax.set_xlabel('Changes')\n",
    "    ax.set_title('Zone%s - BTM %dhr ramping behavior from %d:00 to %d:00'%(Zone_name, \n",
    "                                                                                  hour_diff, HB, HE))\n",
    "    ax.grid(axis='y')\n",
    "    ax.set_facecolor('#d8dcd6')\n",
    "    xticks = mtick.PercentFormatter(xmax=1, symbol='%', is_latex=False)\n",
    "    ax.xaxis.set_major_formatter(xticks)\n",
    "    \n",
    "    plt.axvline(threshhold1, ls = '--', c = 'r', label = '%dhr %d-sigma'%(hour_diff ,n_sigma))\n",
    "    plt.axvline(threshhold2, ls = '--', c = 'r')\n",
    "    plt.legend()\n",
    "\n",
    "    \n",
    "    # plt.show() # show plot in python\n",
    "    # save plot in current file dir\n",
    "    fig.savefig('Zone%s_BTM_%dhr_ramping_behavior'%(Zone_name, hour_diff), bbox_inches=\"tight\")\n",
    "    \n",
    "    # 3 ways to close plots:\n",
    "        # (seems like it doesn't work, but I put them here in case it works)\n",
    "    plt.cla()\n",
    "    plt.clf()\n",
    "    plt.close(fig)"
   ]
  },
  {
   "cell_type": "code",
   "execution_count": 27,
   "metadata": {},
   "outputs": [],
   "source": [
    "# ramping_plot(df, 1, 10, 14, 3)"
   ]
  },
  {
   "cell_type": "markdown",
   "metadata": {},
   "source": [
    "### Deal with all files\n",
    "\n",
    "Note that when loop through all 12 files, the error \"In RendererAgg: Out of memory\" might occur. It might be because the loop loads all graphs or datasets into memory, and it runs out of memory in the RAM."
   ]
  },
  {
   "cell_type": "code",
   "execution_count": 50,
   "metadata": {},
   "outputs": [],
   "source": [
    "files_dir_old = 'C:/Users/zhongj/Desktop/TASK2_PPT_DATA' # change the directory\n",
    "\n",
    "files_dir_new = \"C:/Users/zhongj/Desktop/TASK2_PPT\" # change the directory\n",
    "\n",
    "from openpyxl.writer.excel import ExcelWriter"
   ]
  },
  {
   "cell_type": "code",
   "execution_count": 52,
   "metadata": {},
   "outputs": [],
   "source": [
    "#loops through files:\n",
    "for filename in os.listdir(files_dir_old):\n",
    "    file_path = os.path.join(files_dir_old, filename)\n",
    "    df = edit_df(file_path) # read file\n",
    "    \n",
    "    # create folder for zones:\n",
    "    zone_name = filename.split(\"_\")[0]\n",
    "    if not os.path.exists(files_dir_new + \"//\" + zone_name):\n",
    "        os.makedirs(files_dir_new + \"//\" + zone_name)\n",
    "        \n",
    "    output_folder = files_dir_new + \"//\" + zone_name\n",
    "    \n",
    "    os.chdir(output_folder) # in the folder\n",
    "    \n",
    "    # For 'BTM', 'GHI', 'POA20','POA30':\n",
    "    \n",
    "    feature = ['DateTime','BTM', 'GHI', 'POA20']\n",
    "    # General plots:\n",
    "    general_plot(df, feature, 7, 18)\n",
    "    \n",
    "    variables =  ['BTM']\n",
    "    for i in variables:\n",
    "         # create folders for 'BTM', 'GHI', 'POA20','POA30':\n",
    "#         if not os.path.exists(output_folder + \"//\" + i):\n",
    "#             os.makedirs(output_folder + \"//\" + i)\n",
    "            \n",
    "#         output_folder2 = output_folder + \"//\" + i\n",
    "#         os.chdir(output_folder2) # go to the folder\n",
    "        \n",
    "    \n",
    "        # Contour plots:\n",
    "#         writer = pd.ExcelWriter(r'%s_%s_12_by_24.xlsx'%(zone_name, i), \n",
    "#                                 engine = 'xlsxwriter')\n",
    "        \n",
    "        maths = ['max']\n",
    "        for k in maths: \n",
    "            contour_plot_final(df, i, k) # Contour plots\n",
    "#             data_table00 = data_table(df, i, k) #data table\n",
    "#             data_table00.to_excel(writer, sheet_name = '%s.xlsx'%(k)) # output to excel\n",
    "            \n",
    "#         writer.save()\n",
    "           \n",
    "    os.chdir(output_folder) #go back to the zone folder\n",
    "    \n",
    "    # Correlation plots between 'BTM', 'GHI', 'POA20','POA30'\n",
    "#     corr(df, variables, 9, 15)\n",
    "    \n",
    "#     # Correlation plots between 'BTM' and weather variables\n",
    "#     variables2 =  ['BTM','_CLC', '_SSM', '_DBT60', '_DEW','_THI','_WCI', '_WSP' ,'_WDR']\n",
    "#     corr(df, variables2, 9, 15)\n",
    "\n",
    "    # Correlation heatmap of all variables\n",
    "    variables3 = ['BTM', 'GHI', 'POA20','POA30', \n",
    "                  '_CLC', '_DBT60', '_DEW', '_SSM', '_THI', \n",
    "                  '_WCI','_WDR', '_WET', '_WSP']\n",
    "    corr_hm(df, variables3, 10, 15)\n",
    "\n",
    "#     # Bonus - Correlation between daily Maximum BTM and daily Maximum Temperatures:\n",
    "#     variables4 = ['BTM', '_THI', '_DBT60']\n",
    "#     corr_hm_BTM_Tem(df, variables4, 0.01, 'GHI')\n",
    "\n",
    "#     # Ramping:\n",
    "#     hour_diff = [1,3]\n",
    "#     for i in hour_diff:\n",
    "#         ramping_plot(df, i, 10, 14, 3)"
   ]
  },
  {
   "cell_type": "code",
   "execution_count": 47,
   "metadata": {},
   "outputs": [
    {
     "data": {
      "text/plain": [
       "<Figure size 1080x720 with 0 Axes>"
      ]
     },
     "metadata": {},
     "output_type": "display_data"
    }
   ],
   "source": [
    "# Zonal correlation:\n",
    "os.chdir(files_dir_new)\n",
    "file = 'C:/Users/zhongj/Desktop/Task2_Data/Normalized_Solar.xlsx'\n",
    "df_zone = pd.read_excel(file)\n",
    "Zones = ['A','B','C','D','E','F','G','H','I','J','K','S']\n",
    "\n",
    "#writer = pd.ExcelWriter('Zonal_Cross_Correlation.xlsx', engine = 'xlsxwriter')\n",
    "\n",
    "#8am-17pm\n",
    "cor_data, HB, HE = Zonal_corr_plot(df_zone, 8, 17, Zones)\n",
    "# df1 = data_table2(cor_data)\n",
    "# df1.to_excel(writer, sheet_name = 'from %d to %d'%(HB, HE))\n",
    "\n",
    "# writer.save()"
   ]
  },
  {
   "cell_type": "code",
   "execution_count": null,
   "metadata": {},
   "outputs": [],
   "source": []
  },
  {
   "cell_type": "code",
   "execution_count": null,
   "metadata": {},
   "outputs": [],
   "source": []
  },
  {
   "cell_type": "code",
   "execution_count": null,
   "metadata": {},
   "outputs": [],
   "source": [
    "# df1 = df.loc[(df['Hour'] >= 10) &(df['Hour'] <= 14)]\n",
    "# grouped = df.groupby(['Year', 'Month', 'Day'])"
   ]
  },
  {
   "cell_type": "code",
   "execution_count": null,
   "metadata": {},
   "outputs": [],
   "source": [
    "# # year = list(df['Year'].unique())\n",
    "# # month =list(df['Month'].unique())\n",
    "# # df_diff2 = pd.Series([])\n",
    "# # for i in year:\n",
    "#     for j in month:\n",
    "#         day = list(df[(df['Year'] == i) & (df['Month'] == j)]['Day'].unique())\n",
    "#         for k in day:\n",
    "#             df2 = grouped.get_group((i,j,k))\n",
    "#             df2 = df2.loc[:, 'BTM'].reset_index(drop = True)\n",
    "#             df3 = df2.diff(3)\n",
    "#             df3 = df3.dropna(axis=0, how='any', inplace=False)\n",
    "      \n",
    "#             df4 = df3/df2\n",
    "#             df4.replace([np.inf, -np.inf], np.nan, inplace = True)\n",
    "#             df4 = df4.dropna(axis=0, how='any', inplace=False)\n",
    "#             df_diff2 = pd.concat([df_diff2, df4], ignore_index = True)  "
   ]
  },
  {
   "cell_type": "code",
   "execution_count": null,
   "metadata": {},
   "outputs": [],
   "source": [
    "# from matplotlib import ticker\n",
    "# fig, ax = plt.subplots(1,1,figsize = (15,5))\n",
    "\n",
    "# df_diff2.plot.hist(density=True, grid=True, rwidth=0.9, ax=ax)\n",
    "# df_diff2.plot.kde(ax=ax, legend=False, title='BTM 1 hr ramping behavior :(h2-h1)/h1')\n",
    "# ax.set_ylabel('Frequency of Occurrence')\n",
    "# ax.grid(axis='y')\n",
    "# ax.set_facecolor('#d8dcd6')"
   ]
  },
  {
   "cell_type": "code",
   "execution_count": null,
   "metadata": {},
   "outputs": [],
   "source": []
  },
  {
   "cell_type": "code",
   "execution_count": null,
   "metadata": {},
   "outputs": [],
   "source": []
  }
 ],
 "metadata": {
  "kernelspec": {
   "display_name": "Python 3",
   "language": "python",
   "name": "python3"
  },
  "language_info": {
   "codemirror_mode": {
    "name": "ipython",
    "version": 3
   },
   "file_extension": ".py",
   "mimetype": "text/x-python",
   "name": "python",
   "nbconvert_exporter": "python",
   "pygments_lexer": "ipython3",
   "version": "3.7.6"
  }
 },
 "nbformat": 4,
 "nbformat_minor": 4
}
