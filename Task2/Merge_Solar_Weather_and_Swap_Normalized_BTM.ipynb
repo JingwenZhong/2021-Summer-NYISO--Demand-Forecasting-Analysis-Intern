{
 "cells": [
  {
   "cell_type": "code",
   "execution_count": 39,
   "metadata": {},
   "outputs": [],
   "source": [
    "import pandas as pd\n",
    "import os"
   ]
  },
  {
   "cell_type": "markdown",
   "metadata": {},
   "source": [
    "# original file:\n",
    "\n",
    "###  Missing dates and times in 2017:\n",
    "\n",
    "                 \n",
    "# Normalized file\n",
    "\n",
    "###  Missing dates and times in 2017:\n",
    "       \n",
    "           \n",
    "##### both of them miss:  03-08-2020 at 2:00:00"
   ]
  },
  {
   "cell_type": "code",
   "execution_count": 40,
   "metadata": {},
   "outputs": [],
   "source": [
    "#orignal file\n",
    "from datetime import date\n",
    "def add_rows1(file):\n",
    "    df = pd.read_excel(file)\n",
    "    df['Hour'] = df['Time'].map(lambda x: x.hour)\n",
    "    Zone = list(df['Zone'].unique())[0] #Zone name\n",
    "    \n",
    "    # hourly average:\n",
    "    df = df.groupby(['Date', 'Hour']).mean() #Datetime,Time, Zone columns will be deleted by this\n",
    "    df = df.reset_index()\n",
    "    \n",
    "# If there is no missing date, then don't use the code below\n",
    "    # problems only occur these in July and Oct in 2017:\n",
    "    df_July = df[(df['Year']== 2017) &(df['Month']== 7)]\n",
    "    # df_Oct = df[(df['Year']== 2017) &(df['Month']== 10)]\n",
    "    \n",
    "    #Lets's find which day and what time:\n",
    "    Day_list = list(df['Day'].unique())\n",
    "    Hour_list = list(df['Hour'].unique())\n",
    "    \n",
    "    #July:\n",
    "    for i in Day_list:\n",
    "        for j in Hour_list:\n",
    "            df_cut = df_July[(df_July['Day']== i) & (df_July['Hour']== j)] \n",
    "            if len(df_cut) == 0:\n",
    "                df.loc[df.shape[0]] = dict(zip(df.columns, \n",
    "                                                 (date(2017,7,i), j, 2017, 7, i,\n",
    "                                                  None, None, None, None, None)))\n",
    "                \n",
    "                \n",
    "    #Oct:\n",
    "#     for i in Day_list:\n",
    "#         for j in Hour_list:\n",
    "#             df_cut = df_Oct[(df_Oct['Day']== i) & (df_Oct['Hour']== j)] \n",
    "#             if len(df_cut) == 0:\n",
    "#                 df.loc[df.shape[0]] = dict(zip(df.columns, \n",
    "#                                                  (date(2017,10,i), j, 2017, 10, i,\n",
    "#                                                   None, None, None, None, None)))\n",
    "                \n",
    "    #2017 Zone S:\n",
    "    solar2017 = df.loc[(df['Date'] < date(2017,7,1))]\n",
    "    if (len(solar2017) == 0) & (Zone == 'S'):\n",
    "        df_add_raw = pd.DataFrame(columns = solar2017.columns) # create a dateframe\n",
    "        idx = pd.date_range(start = '2017-01-01', end = '2017-6-30 23:00:00', freq = 'H')\n",
    "        df_add_raw['Date'] = idx.date\n",
    "        df_add_raw['Year'] = idx.year\n",
    "        df_add_raw['Month'] = idx.month\n",
    "        df_add_raw['Day'] = idx.day\n",
    "        df_add_raw['Hour'] = idx.hour\n",
    "        df = df.append(df_add_raw, ignore_index = True)\n",
    "      \n",
    "    df = df.sort_values(by = ['Date','Hour']).reset_index(drop = True)\n",
    "    \n",
    "    return df, Zone"
   ]
  },
  {
   "cell_type": "code",
   "execution_count": 41,
   "metadata": {},
   "outputs": [],
   "source": [
    "# normalized file\n",
    "def add_rows2(file):\n",
    "    df = pd.read_excel(file)\n",
    "    \n",
    "    df['HourlyInt'] = pd.to_datetime(df['HourlyInt'])\n",
    "    df['Month'] =  df['HourlyInt'].dt.month\n",
    "    df['Day'] =  df['HourlyInt'].dt.day\n",
    "    df['Hour'] =  df['HourlyInt'].dt.hour\n",
    "    \n",
    "# If there is no missing date, then don't use the code below\n",
    "    # problems only occur in Oct 2017:\n",
    "    df_Oct = df[(df['Year']== 2017)&(df['Month']== 10)]\n",
    "    \n",
    "    #Lets's find which day and what time:\n",
    "    Day_list = list(df['Day'].unique())\n",
    "    Hour_list = list(df['Hour'].unique())                \n",
    "                \n",
    "#     #Oct:\n",
    "#     for i in Day_list:\n",
    "#         for j in Hour_list:\n",
    "#             df_cut = df_Oct[(df_Oct['Day']== i) & (df_Oct['Hour']== j)] \n",
    "#             if len(df_cut) == 0:\n",
    "#                 df.loc[df.shape[0]] = dict(zip(df.columns, \n",
    "#                                                (date(2017,10,i), 2017, None, None, None, None, None, None,\n",
    "#                                                None, None, None,None, None,None, 10,i, j)))\n",
    "            \n",
    "                \n",
    "    df = df.sort_values(by = ['Year','Month', 'Day', 'Hour']).reset_index(drop = True) \n",
    "    \n",
    "    return df"
   ]
  },
  {
   "cell_type": "markdown",
   "metadata": {},
   "source": [
    "# Swap"
   ]
  },
  {
   "cell_type": "code",
   "execution_count": 73,
   "metadata": {},
   "outputs": [],
   "source": [
    "def swap(file1, file2):\n",
    "    df1, Zone = add_rows1(file1)\n",
    "\n",
    "    df2 = add_rows2(file2)\n",
    "    df2 = df2[['%s'%(Zone), 'Year', 'Month', 'Day', 'Hour']]\n",
    "    df1['BTM'] = df2['%s'%(Zone)] #swap\n",
    "    df_swap = pd.merge(df1, df2, on = ['Year', 'Month', 'Day', 'Hour']) #merge\n",
    "\n",
    "    del df_swap['BTM']\n",
    "    df_swap.rename(columns = {'%s'%(Zone): 'BTM'}, inplace = True)\n",
    "    \n",
    "    # add a row:\n",
    "    df_swap.loc[df_swap.shape[0]] = dict(zip(df_swap.columns, \n",
    "                                   (date(2020,3,8), 2, 2020, 3, 8, None, None,None,None,None)))\n",
    "    #sort\n",
    "    df_swap = df_swap.sort_values(by = ['Year','Month', 'Day', 'Hour']).reset_index(drop = True)\n",
    "    #change format\n",
    "    df_swap['Date'] = pd.to_datetime(df_swap['Date']) \n",
    "\n",
    "    return df_swap"
   ]
  },
  {
   "cell_type": "code",
   "execution_count": 62,
   "metadata": {},
   "outputs": [],
   "source": [
    "df1 = swap('C:/Users/zhongj/Desktop/Data/Zonal_SolarData/ZoneS_SolarData.xlsx', 'C:/Users/zhongj/Desktop/Data/Normalized_Solar.xlsx')"
   ]
  },
  {
   "cell_type": "markdown",
   "metadata": {},
   "source": [
    "# Merge"
   ]
  },
  {
   "cell_type": "code",
   "execution_count": 63,
   "metadata": {},
   "outputs": [],
   "source": [
    "def Merge_file(df, file):\n",
    "    df2 = pd.read_excel(file)\n",
    "    df2['Hour'] = df2['Time'].map(lambda x: x.hour) #get hour\n",
    "    \n",
    "    df_merge = pd.merge(df2, df, on = ['Date','Hour']) #merge\n",
    "    \n",
    "    df['HrFlag'] = df['Hour'].map(lambda x: 1 if x >= 6 and x <=19  else 0)\n",
    "    \n",
    "    # change columns order\n",
    "    df_merge = df_merge[['Zone', 'Date','Year', 'Month', 'Day','Hour','Time','HrFlag',\n",
    "           'BTM', 'GHI', 'POA20', 'POA30',\n",
    "           '_CLC', '_DBT60', '_DEW', '_GHI60', '_SSM','_THI', '_WCI', '_WDR', '_WET', '_WSP' ]]\n",
    "    \n",
    "    del df_merge['Date']\n",
    "    del df_merge['Time']\n",
    "    \n",
    "    return df_merge\n",
    "   "
   ]
  },
  {
   "cell_type": "code",
   "execution_count": 64,
   "metadata": {},
   "outputs": [],
   "source": [
    "df = Merge_file(df1, 'C:/Users/zhongj/Desktop/Data/Zonal_WeatherData/ZoneS_WeatherData.xlsx')"
   ]
  },
  {
   "cell_type": "markdown",
   "metadata": {},
   "source": [
    "# All files"
   ]
  },
  {
   "cell_type": "code",
   "execution_count": 74,
   "metadata": {},
   "outputs": [],
   "source": [
    "files_dir_solar = 'C:/Users/zhongj/Desktop/Data/Zonal_SolarData' \n",
    "\n",
    "files_dir_weather = \"C:/Users/zhongj/Desktop/Data/Zonal_WeatherData\" \n",
    "\n",
    "normalized_solar =  'C:/Users/zhongj/Desktop/Data/Normalized_Solar.xlsx'\n",
    "\n",
    "final_files_dir = \"C:/Users/zhongj/Desktop/Final_Zonal_Data\" \n",
    "\n",
    "for filename1 in os.listdir(files_dir_solar):\n",
    "    for filename2 in os.listdir(files_dir_weather):\n",
    "        if filename1.split(\"_\")[0] == filename2.split(\"_\")[0]:\n",
    "            file_path1 = os.path.join(files_dir_solar, filename1)\n",
    "            file_path2 = os.path.join(files_dir_weather, filename2)\n",
    "            df1 = swap(file_path1 , normalized_solar)\n",
    "            df_final = Merge_file(df1, file_path2)\n",
    "            \n",
    "            #output:\n",
    "            os.chdir(final_files_dir)\n",
    "            \n",
    "            df_final.to_excel(r\"%s_FinalData.xlsx\"%(filename1.split(\"_\")[0]), 'sheet1',index=False) # create a excel file\n"
   ]
  },
  {
   "cell_type": "code",
   "execution_count": null,
   "metadata": {},
   "outputs": [],
   "source": []
  },
  {
   "cell_type": "code",
   "execution_count": null,
   "metadata": {},
   "outputs": [],
   "source": []
  }
 ],
 "metadata": {
  "kernelspec": {
   "display_name": "Python 3",
   "language": "python",
   "name": "python3"
  },
  "language_info": {
   "codemirror_mode": {
    "name": "ipython",
    "version": 3
   },
   "file_extension": ".py",
   "mimetype": "text/x-python",
   "name": "python",
   "nbconvert_exporter": "python",
   "pygments_lexer": "ipython3",
   "version": "3.7.6"
  }
 },
 "nbformat": 4,
 "nbformat_minor": 4
}
